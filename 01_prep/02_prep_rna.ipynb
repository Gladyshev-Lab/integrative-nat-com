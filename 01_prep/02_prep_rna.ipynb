{
 "cells": [
  {
   "cell_type": "code",
   "execution_count": 1,
   "id": "4453686e-24d4-4d17-b320-0a16579f8eb2",
   "metadata": {},
   "outputs": [],
   "source": [
    "import pandas as pd\n",
    "import numpy as np\n",
    "import glob,os\n",
    "import xlrd\n",
    "data='../data/'\n",
    "n=6"
   ]
  },
  {
   "cell_type": "code",
   "execution_count": 2,
   "id": "dee18e6a-e75b-4948-ba1b-f1d11f2dcae4",
   "metadata": {},
   "outputs": [
    {
     "data": {
      "text/plain": [
       "(18937, 1)"
      ]
     },
     "execution_count": 2,
     "metadata": {},
     "output_type": "execute_result"
    }
   ],
   "source": [
    "#get gene lists\n",
    "gen=pd.read_csv(data+'clean/genes.csv',index_col=0)\n",
    "gen.shape"
   ]
  },
  {
   "cell_type": "code",
   "execution_count": 3,
   "id": "50de733b-4f6e-4c67-82ab-847f549cc368",
   "metadata": {},
   "outputs": [],
   "source": [
    "#load and clean RNA data"
   ]
  },
  {
   "cell_type": "code",
   "execution_count": 4,
   "id": "066344b4-46cf-4bf9-ba14-235979f16c63",
   "metadata": {},
   "outputs": [
    {
     "data": {
      "text/plain": [
       "(1861, 4)"
      ]
     },
     "execution_count": 4,
     "metadata": {},
     "output_type": "execute_result"
    }
   ],
   "source": [
    "##mesa\n",
    "meta_=data+'source/cohorts/mesa/phs001416.v3.pht010512.v1.p1.c1.TOPMed_MESA_RNA_Seq_Expression_Sample_Attributes.HMB.txt'\n",
    "meta=pd.read_table(meta_,skiprows=10,index_col='SAMPLE_ID')\n",
    "meta=meta[meta['HISTOLOGICAL_TYPE']=='PBMC']\n",
    "meta=meta[['AGE_AT_COLLECTION','COLLECTION_VISIT','SUBJECT_ID','ANALYTE_ISOLATION_BATCH_ID']]\n",
    "meta.columns=['age','cohort','sid','phase']\n",
    "meta=meta[meta['phase'].isin(['1','2','3','4','5'])].copy()\n",
    "meta['cohort']=meta['cohort'].replace({1:'MESA1',5:'MESA2'})\n",
    "meta=meta[['cohort','sid','age']].sort_values(['cohort','sid']).copy()\n",
    "subj=pd.read_table(data+'source/cohorts/mesa/phs000209.v13.pht001116.v10.p3.c1.MESA_Exam1Main.HMB.txt',skiprows=10,index_col=0,usecols=['sidno','gender1'])\n",
    "subj.columns=['sex']\n",
    "subj['sex']=subj['sex'].replace({0:'Female',1:'Male'})\n",
    "meta=meta.merge(subj[['sex']],left_on='sid',right_index=True,how='inner')\n",
    "meta.to_csv(data+'clean/cohorts/meta/mesa_rna.csv')\n",
    "meta.shape"
   ]
  },
  {
   "cell_type": "code",
   "execution_count": 5,
   "id": "89a53788-bf6a-485c-a3f0-5400ed7138aa",
   "metadata": {},
   "outputs": [
    {
     "name": "stdout",
     "output_type": "stream",
     "text": [
      "CPU times: user 3.95 s, sys: 4.11 s, total: 8.06 s\n",
      "Wall time: 8.08 s\n"
     ]
    },
    {
     "data": {
      "text/plain": [
       "(1861, 18834)"
      ]
     },
     "execution_count": 5,
     "metadata": {},
     "output_type": "execute_result"
    }
   ],
   "source": [
    "%%time\n",
    "# create data pickles \n",
    "mesa=pd.read_pickle(data+'pkls/rna/mesa.pkl')\n",
    "mesa['id']=mesa.index.str.split('.').str[0]\n",
    "mesa=mesa.groupby('id').mean()\n",
    "mesa=mesa[mesa.index.isin(gen.index)]\n",
    "mesa=mesa.T\n",
    "mesa=meta.join(mesa,how='inner')\n",
    "mesa.shape"
   ]
  },
  {
   "cell_type": "code",
   "execution_count": 6,
   "id": "49d608db-8e5f-45d0-882c-bb9b6e6d783c",
   "metadata": {},
   "outputs": [
    {
     "data": {
      "text/plain": [
       "(62, 17540)"
      ]
     },
     "execution_count": 6,
     "metadata": {},
     "output_type": "execute_result"
    }
   ],
   "source": [
    "jen=pd.read_pickle(data+'pkls/rna/jena.pkl')\n",
    "jen.columns=jen.columns.str.strip(' ')\n",
    "jen=jen[jen.index.isin(gen.index)]\n",
    "jen=jen.drop(['external_gene_id','description','gene_biotype'],axis=1)\n",
    "jen=jen[jen.sum(1)>0].T\n",
    "jen1_meta_='https://ftp.ncbi.nlm.nih.gov/geo/series/GSE103nnn/GSE103232/matrix/GSE103232_series_matrix.txt.gz'\n",
    "jen1_meta=pd.read_table(jen1_meta_,index_col=0,skiprows=32)\n",
    "age1=jen1_meta.iloc[8].str[5:7].astype(int)\n",
    "age1.index=age1.index.str[-3:]\n",
    "jen2_meta_='https://ftp.ncbi.nlm.nih.gov/geo/series/GSE75nnn/GSE75337/matrix/GSE75337_series_matrix.txt.gz'\n",
    "jen2_meta=pd.read_table(jen2_meta_,index_col=0,skiprows=34)\n",
    "age2=jen2_meta.iloc[8].str[5:7].astype(int)\n",
    "age2=age2[age2.index.str.contains('blood')]\n",
    "age=pd.concat([age1,age2])\n",
    "jena=jen.join(age.rename('age'))\n",
    "jena['cohort']='JenAge'\n",
    "jena['sex']='Unknown'\n",
    "jena.shape"
   ]
  },
  {
   "cell_type": "code",
   "execution_count": 7,
   "id": "f29da7ea-b415-42d2-b900-9c52ae973197",
   "metadata": {},
   "outputs": [
    {
     "name": "stdout",
     "output_type": "stream",
     "text": [
      "CPU times: user 108 ms, sys: 122 ms, total: 230 ms\n",
      "Wall time: 227 ms\n"
     ]
    },
    {
     "data": {
      "text/plain": [
       "(327, 13513)"
      ]
     },
     "execution_count": 7,
     "metadata": {},
     "output_type": "execute_result"
    }
   ],
   "source": [
    "%%time\n",
    "##gc6\n",
    "meta_=data+'source/cohorts/gc6/GSE94438_series_matrix.txt'\n",
    "meta=pd.read_table(meta_,index_col=0,skiprows=33).iloc[[7,10,11,12]].T\n",
    "meta.columns=['id','age','sex','group']\n",
    "meta['sex']=meta['sex'].replace({'gender: F':'Female','gender: M':'Male'})\n",
    "meta=meta[meta['group']=='group: Control'].copy()\n",
    "meta['age']=meta['age'].str.strip('age: ')\n",
    "meta['age']=pd.to_numeric(meta['age'], errors='coerce')\n",
    "meta.index='X'+meta['id'].str.strip('code: : ')\n",
    "gc6=pd.read_pickle(data+'pkls/rna/gc6.pkl')\n",
    "gc6=gc6[gc6.index.isin(gen.index)]\n",
    "gc6=gc6.drop('symbol',axis=1)\n",
    "gc6=meta[['age','sex']].join(gc6.T)\n",
    "gc6['cohort']='GC6'\n",
    "gc6.shape"
   ]
  },
  {
   "cell_type": "code",
   "execution_count": 8,
   "id": "8ce88d31-7026-4467-9f27-21054b59bdfd",
   "metadata": {},
   "outputs": [
    {
     "name": "stdout",
     "output_type": "stream",
     "text": [
      "CPU times: user 72.5 ms, sys: 63.2 ms, total: 136 ms\n",
      "Wall time: 718 ms\n"
     ]
    },
    {
     "data": {
      "text/plain": [
       "(97, 17418)"
      ]
     },
     "execution_count": 8,
     "metadata": {},
     "output_type": "execute_result"
    }
   ],
   "source": [
    "%%time\n",
    "##dutch\n",
    "meta_='https://ftp.ncbi.nlm.nih.gov/geo/series/GSE134nnn/GSE134080/matrix/GSE134080_series_matrix.txt.gz'\n",
    "meta=pd.read_table(meta_,skiprows=30).drop('!Sample_title',axis=1).iloc[10:12].T\n",
    "meta.columns=['age','sex']\n",
    "meta['age']=meta['age'].str.strip('age: ').astype(int)\n",
    "meta['sex']=meta['sex'].replace({'Sex: female':'Female','Sex: male':'Male'})\n",
    "meta.index=meta.index.str.strip('Dutch 500FG cohort, whole blood, individual ')\n",
    "dutch=pd.read_pickle(data+'pkls/rna/dutch.pkl')\n",
    "dutch=dutch[dutch.index.isin(gen.index)]\n",
    "dutch=dutch.T.join(meta,how='inner')\n",
    "dutch['cohort']='Dutch'\n",
    "dutch.shape"
   ]
  },
  {
   "cell_type": "code",
   "execution_count": 9,
   "id": "1aff332d-6edb-4fa0-9641-853a10946b34",
   "metadata": {},
   "outputs": [
    {
     "name": "stdout",
     "output_type": "stream",
     "text": [
      "CPU times: user 8.82 s, sys: 2.39 s, total: 11.2 s\n",
      "Wall time: 12.2 s\n"
     ]
    },
    {
     "data": {
      "text/plain": [
       "(1111, 18853)"
      ]
     },
     "execution_count": 9,
     "metadata": {},
     "output_type": "execute_result"
    }
   ],
   "source": [
    "%%time\n",
    "#ppmi\n",
    "meta=pd.read_excel(data+'source/cohorts/ppmi/PPMI_Curated_Data_Cut_Public_20240129.xlsx',sheet_name='20240129')\n",
    "meta=meta[meta['EVENT_ID']=='BL']\n",
    "meta.index=meta['PATNO'].astype(str)\n",
    "meta=meta[['age_at_visit','SEX','visit_date']]\n",
    "meta.columns=['age','sex','visit_date']\n",
    "meta['sex']=meta['sex'].replace({0:'Female',1:'Male'})\n",
    "meta.to_csv(data+'clean/cohorts/meta/ppmi_rna.csv')\n",
    "ppmi=pd.read_pickle(data+'pkls/rna/ppmi.pkl')\n",
    "ppmi['id']=ppmi.index.str.split('.').str[0]\n",
    "ppmi=ppmi.groupby('id').mean()\n",
    "ppmi=ppmi[ppmi.index.isin(gen.index)]\n",
    "ppmi=meta.drop('visit_date',axis=1).join(ppmi.T,how='inner')\n",
    "ppmi['cohort']='PPMI'\n",
    "ppmi.shape"
   ]
  },
  {
   "cell_type": "code",
   "execution_count": 10,
   "id": "98e00492-2571-4fd7-9e28-d7add704d618",
   "metadata": {},
   "outputs": [
    {
     "name": "stdout",
     "output_type": "stream",
     "text": [
      "CPU times: user 987 ms, sys: 732 ms, total: 1.72 s\n",
      "Wall time: 2.49 s\n"
     ]
    }
   ],
   "source": [
    "%%time\n",
    "rna=pd.concat([mesa,ppmi,gc6,dutch,jena])\n",
    "rna.to_pickle(data+'results/rna.pkl')\n",
    "rna[['cohort','age','sex']].reset_index(drop=True).to_csv(data+'figs/1a.csv')    \n",
    "rna[['cohort','age','ENSG00000174807']].reset_index(drop=True).to_csv(data+'figs/1c.csv')    "
   ]
  },
  {
   "cell_type": "code",
   "execution_count": null,
   "id": "3baefc7a-71bc-4a25-bde4-3df9c3f21379",
   "metadata": {},
   "outputs": [],
   "source": []
  }
 ],
 "metadata": {
  "kernelspec": {
   "display_name": "integrative",
   "language": "python",
   "name": "integrative"
  },
  "language_info": {
   "codemirror_mode": {
    "name": "ipython",
    "version": 3
   },
   "file_extension": ".py",
   "mimetype": "text/x-python",
   "name": "python",
   "nbconvert_exporter": "python",
   "pygments_lexer": "ipython3",
   "version": "3.12.9"
  }
 },
 "nbformat": 4,
 "nbformat_minor": 5
}
