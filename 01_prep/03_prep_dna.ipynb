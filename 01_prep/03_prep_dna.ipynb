{
 "cells": [
  {
   "cell_type": "code",
   "execution_count": 1,
   "id": "dea6608c-4a6e-4897-a998-2772456d4585",
   "metadata": {},
   "outputs": [],
   "source": [
    "import pandas as pd\n",
    "import biolearn\n",
    "from biolearn.data_library import DataLibrary\n",
    "data='../data/'\n",
    "cache=biolearn.cache.LocalFolderCache(data+'cache',1000)\n",
    "n=6\n",
    "#load cohorts and clean DANm data \n",
    "dts=[]\n",
    "elovs=[]    "
   ]
  },
  {
   "cell_type": "code",
   "execution_count": 2,
   "id": "464e0f29-57a4-4c53-8385-c7515ed95b30",
   "metadata": {},
   "outputs": [
    {
     "data": {
      "text/plain": [
       "(1774, 4)"
      ]
     },
     "execution_count": 2,
     "metadata": {},
     "output_type": "execute_result"
    }
   ],
   "source": [
    "##mesa\n",
    "meta=pd.read_table(data+'source/cohorts/mesa/phs001416.v3.pht010510.v1.p1.c1.TOPMed_MESA_Methylomics_Sample_Attributes.HMB.txt',skiprows=10,index_col=0,\n",
    "                   usecols=['SAMPLE_ID','ASSAY_TYPE','HISTOLOGICAL_TYPE','ANALYTE_ISOLATION_LAB','TOPMED_PHASE','SUBJECT_ID','COLLECTION_VISIT','AGE_AT_COLLECTION'])\n",
    "meta.shape\n",
    "meta=meta[(meta['ASSAY_TYPE']=='BIS')&(meta['HISTOLOGICAL_TYPE']=='PBMC')&(meta['ANALYTE_ISOLATION_LAB']=='Tracy-UVT')&(meta['TOPMED_PHASE']=='TOPMed MULTI-OMICS Pilot')].copy()\n",
    "meta=meta[['COLLECTION_VISIT','AGE_AT_COLLECTION','SUBJECT_ID']]\n",
    "meta.columns=['visit','age','sid']\n",
    "meta['visit']=meta['visit'].replace({5:2})\n",
    "subj=pd.read_table(data+'source/cohorts/mesa/phs000209.v13.pht001116.v10.p3.c1.MESA_Exam1Main.HMB.txt',skiprows=10,index_col=0,usecols=['sidno','gender1'])\n",
    "subj.columns=['sex']\n",
    "meta=meta.merge(subj[['sex']],left_on='sid',right_index=True,how='inner')\n",
    "meta.to_csv(data+'clean/cohorts/meta/mesa_dna.csv')\n",
    "meta.shape"
   ]
  },
  {
   "cell_type": "code",
   "execution_count": 3,
   "id": "f787087f-f904-4c0c-9ae9-181a4263d5f4",
   "metadata": {},
   "outputs": [
    {
     "name": "stdout",
     "output_type": "stream",
     "text": [
      "CPU times: user 77.7 ms, sys: 20 s, total: 20 s\n",
      "Wall time: 42.5 s\n"
     ]
    },
    {
     "data": {
      "text/plain": [
       "(866553, 1955)"
      ]
     },
     "execution_count": 3,
     "metadata": {},
     "output_type": "execute_result"
    }
   ],
   "source": [
    "%%time\n",
    "df=pd.read_pickle(data+'pkls/dna/mesa.pkl')\n",
    "df.shape"
   ]
  },
  {
   "cell_type": "code",
   "execution_count": 4,
   "id": "9186b32a-3df1-490f-995e-ed15667a2d53",
   "metadata": {},
   "outputs": [
    {
     "name": "stdout",
     "output_type": "stream",
     "text": [
      "CPU times: user 18.1 s, sys: 24.7 s, total: 42.9 s\n",
      "Wall time: 42.9 s\n"
     ]
    },
    {
     "data": {
      "text/plain": [
       "(888, 866555)"
      ]
     },
     "execution_count": 4,
     "metadata": {},
     "output_type": "execute_result"
    }
   ],
   "source": [
    "%%time\n",
    "dt=df.T\n",
    "dt=dt.join(meta[meta['visit']==1][['age']],how='inner')\n",
    "dt['cohort']='MESA1'\n",
    "elovs.append(dt[['cg16867657','age','cohort']])\n",
    "dt=df.T\n",
    "dt=dt.join(meta[meta['visit']==2][['age']],how='inner')\n",
    "dt=dt[~dt.index.duplicated(keep='first')].copy()\n",
    "dt['cohort']='MESA2'\n",
    "elovs.append(dt[['cg16867657','age','cohort']])\n",
    "meta=meta[['visit','age','sex']].copy()\n",
    "meta.columns=['cohort','age','sex']\n",
    "meta['cohort']=meta.cohort.replace({1:'MESA1',2:'MESA2'})\n",
    "dts.append(meta[['cohort','sex','age']])\n",
    "dt.shape"
   ]
  },
  {
   "cell_type": "code",
   "execution_count": 5,
   "id": "e6d609a5-72e8-44ef-a618-a641d0198cc2",
   "metadata": {},
   "outputs": [
    {
     "name": "stdout",
     "output_type": "stream",
     "text": [
      "CPU times: user 11 s, sys: 10.3 s, total: 21.3 s\n",
      "Wall time: 35.3 s\n"
     ]
    },
    {
     "data": {
      "text/plain": [
       "(510, 865921)"
      ]
     },
     "execution_count": 5,
     "metadata": {},
     "output_type": "execute_result"
    }
   ],
   "source": [
    "%%time\n",
    "##PPMI\n",
    "ids=pd.read_table(data+'source/cohorts/ppmi/PPMI_Meth_n524_for_LONI030718.txt',index_col=0)\n",
    "ids['id']=ids['Sentrix ID'].astype(str)+'_'+ids['Sentrix Position']\n",
    "meta=pd.read_excel(data+'source/cohorts/ppmi/PPMI_Curated_Data_Cut_Public_20240129.xlsx',sheet_name='20240129')\n",
    "meta=meta[meta['EVENT_ID']=='BL']\n",
    "meta.index=meta['PATNO'].astype(str)\n",
    "meta=meta[['age_at_visit','SEX']].join(ids['id']).dropna() #0:female\n",
    "meta.columns=['age','sex','id']\n",
    "meta.index=meta['id']\n",
    "meta.to_csv(data+'clean/cohorts/meta/ppmi_dna.csv')\n",
    "df=pd.read_pickle(data+'pkls/dna/ppmi.pkl')\n",
    "dt=df.T\n",
    "dt=dt.join(meta.drop('id',axis=1),how='inner')\n",
    "dt['cohort']='PPMI'\n",
    "dts.append(dt[['cohort','sex','age']])\n",
    "elovs.append(dt[['cg16867657','age','cohort']])\n",
    "dt.shape"
   ]
  },
  {
   "cell_type": "code",
   "execution_count": null,
   "id": "48c0fe1b-8906-47b0-9494-f528fb4851b9",
   "metadata": {},
   "outputs": [
    {
     "name": "stderr",
     "output_type": "stream",
     "text": [
      "<timed exec>:5: FutureWarning: Downcasting behavior in `replace` is deprecated and will be removed in a future version. To retain the old behavior, explicitly call `result.infer_objects(copy=False)`. To opt-in to the future behavior, set `pd.set_option('future.no_silent_downcasting', True)`\n"
     ]
    }
   ],
   "source": [
    "%%time \n",
    "##grady\n",
    "meta=pd.read_table(data+'source/cohorts/grady/GSE132203_series_matrix.txt',skiprows=29,index_col=0).iloc[8:10].T\n",
    "meta.columns=['sex','age']\n",
    "meta['age']=meta['age'].str.strip('age: ').astype(float)\n",
    "meta['sex']=meta['sex'].replace({'gender: Female':0,'gender: Male':1})\n",
    "meta.to_csv(data+'clean/cohorts/meta/grady.csv')\n",
    "df=pd.read_pickle(data+'pkls//dna/grady.pkl')\n",
    "dt=df.T\n",
    "dt=dt.join(meta,how='inner')\n",
    "dt['cohort']='Grady'\n",
    "dts.append(dt[['cohort','sex','age']])\n",
    "elovs.append(dt[['cg16867657','age','cohort']])"
   ]
  },
  {
   "cell_type": "code",
   "execution_count": null,
   "id": "c61ef481-0dfe-4a00-9c13-0bc3aad2d9de",
   "metadata": {},
   "outputs": [],
   "source": [
    "%%time\n",
    "##mgb\n",
    "meta=pd.read_csv(data+'clean/cohorts/meta/mgb.csv',index_col=0,usecols=['ID','sex','age_at_sample','race'])\n",
    "meta.columns=['sex','age','race']\n",
    "df=pd.read_pickle(data+'pkls/dna/mgb.pkl')\n",
    "dt=df.T\n",
    "dt=dt.join(meta,how='inner')\n",
    "dt['cohort']='MGB'\n",
    "dt['sex']=dt['sex'].replace({'F':0,'M':1})\n",
    "dts.append(dt[['cohort','sex','age','race']])\n",
    "elovs.append(dt[['cg16867657','age','cohort']])"
   ]
  },
  {
   "cell_type": "code",
   "execution_count": null,
   "id": "f74d003d-8e97-4130-9f45-0acc9a5b61fc",
   "metadata": {},
   "outputs": [],
   "source": [
    "%%time\n",
    "#load data from GEO usign Biolearn\n",
    "geos={}\n",
    "for geo in ['GSE157131','GSE42861']: #geno\n",
    "    print (geo)\n",
    "    data_source = DataLibrary(cache=cache).get(geo)\n",
    "    geos[geo]=data_source.load()"
   ]
  },
  {
   "cell_type": "code",
   "execution_count": null,
   "id": "a95bf0ad-237a-4425-b3da-80c480cac796",
   "metadata": {
    "tags": []
   },
   "outputs": [],
   "source": [
    "##geno\n",
    "geo='GSE157131'\n",
    "df=geos[geo].dnam\n",
    "meta=geos[geo].metadata.copy()\n",
    "meta['sex']=meta['sex']-1\n",
    "dt=meta[['sex','age']].join(df.T)\n",
    "dt['cohort']='GENOA'\n",
    "dts.append(dt[['cohort','sex','age']])\n",
    "elovs.append(dt[['cg16867657','age','cohort']])"
   ]
  },
  {
   "cell_type": "code",
   "execution_count": null,
   "id": "ef1de616-1f55-41a7-b841-3320467ec619",
   "metadata": {},
   "outputs": [],
   "source": [
    "%%time\n",
    "## RA\n",
    "geo='GSE42861'\n",
    "df=(geos[geo].dnam).copy()\n",
    "meta=(geos[geo].metadata).copy()\n",
    "meta['sex']=meta['sex']-1\n",
    "dt=meta[['sex','age']].join(df.T)\n",
    "dt['cohort']='RA'\n",
    "dts.append(dt[['cohort','sex','age']])\n",
    "elovs.append(dt[['cg16867657','age','cohort']])"
   ]
  },
  {
   "cell_type": "code",
   "execution_count": null,
   "id": "6ac5b540-827b-40b2-9f07-8b62e23e580b",
   "metadata": {},
   "outputs": [],
   "source": [
    "ages=pd.concat(dts)\n",
    "ages['sex']=ages['sex'].replace({0:'Female',1:'Male',2:'Unknown'})\n",
    "ages.to_csv(data+'results/dna_age.csv')\n",
    "ages['cohort'].value_counts()"
   ]
  },
  {
   "cell_type": "code",
   "execution_count": null,
   "id": "7045e792-0295-49e8-a38b-98e371999695",
   "metadata": {},
   "outputs": [],
   "source": [
    "fig1e=ages[['cohort','age','sex']].reset_index(drop=True)\n",
    "fig1e.to_csv(data+'figs/1e.csv')\n",
    "fig1e.shape"
   ]
  },
  {
   "cell_type": "code",
   "execution_count": null,
   "id": "3fcc6c60-91e3-43d8-a07e-12daa70704e2",
   "metadata": {},
   "outputs": [],
   "source": [
    "fig3a1=ages[['cohort','sex','age']].reset_index(drop=True)\n",
    "fig3a1.to_csv(data+'figs/3a1.csv')\n",
    "fig3a1.shape"
   ]
  },
  {
   "cell_type": "code",
   "execution_count": 18,
   "id": "a22485e6-e973-4899-b3b7-f0b2e429f0a9",
   "metadata": {},
   "outputs": [
    {
     "data": {
      "text/plain": [
       "cohort\n",
       "GENOA    946\n",
       "MESA2    888\n",
       "MESA1    886\n",
       "Grady    795\n",
       "RA       689\n",
       "PPMI     510\n",
       "MGB      461\n",
       "Name: count, dtype: int64"
      ]
     },
     "execution_count": 18,
     "metadata": {},
     "output_type": "execute_result"
    }
   ],
   "source": [
    "fig3a1['cohort'].value_counts()"
   ]
  },
  {
   "cell_type": "code",
   "execution_count": 19,
   "id": "5de0db9a-5cf4-4ae4-bab0-53c11f2b2db9",
   "metadata": {},
   "outputs": [
    {
     "data": {
      "text/plain": [
       "(5175, 4)"
      ]
     },
     "execution_count": 19,
     "metadata": {},
     "output_type": "execute_result"
    }
   ],
   "source": [
    "fig3a2=ages[['cohort','sex','race','age']].reset_index(drop=True)\n",
    "fig3a2.to_csv(data+'figs/3a2.csv')\n",
    "fig3a2.shape"
   ]
  },
  {
   "cell_type": "code",
   "execution_count": null,
   "id": "c01b26dd-e401-4267-a550-7f39f333d91f",
   "metadata": {},
   "outputs": [],
   "source": [
    "elov=pd.concat(elovs)\n",
    "elov.round(3).to_csv(data+'results/elov.csv')\n",
    "elov['cohort'].value_counts()"
   ]
  },
  {
   "cell_type": "code",
   "execution_count": null,
   "id": "9f9a83ac-30bf-4f78-8708-a622f7ee0bb7",
   "metadata": {},
   "outputs": [],
   "source": [
    "fig1g=elov.reset_index(drop=True)\n",
    "fig1g.to_csv(data+'figs/1g.csv')\n",
    "fig1g.shape"
   ]
  },
  {
   "cell_type": "code",
   "execution_count": null,
   "id": "ecb5f410-8b41-471c-ac26-8852d4fbc503",
   "metadata": {},
   "outputs": [],
   "source": []
  }
 ],
 "metadata": {
  "kernelspec": {
   "display_name": "integrative",
   "language": "python",
   "name": "integrative"
  },
  "language_info": {
   "codemirror_mode": {
    "name": "ipython",
    "version": 3
   },
   "file_extension": ".py",
   "mimetype": "text/x-python",
   "name": "python",
   "nbconvert_exporter": "python",
   "pygments_lexer": "ipython3",
   "version": "3.12.9"
  }
 },
 "nbformat": 4,
 "nbformat_minor": 5
}
