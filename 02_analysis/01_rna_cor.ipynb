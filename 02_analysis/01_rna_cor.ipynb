{
 "cells": [
  {
   "cell_type": "code",
   "execution_count": 1,
   "id": "e1b7e640-9d21-4d38-8885-4c681b7c6401",
   "metadata": {},
   "outputs": [],
   "source": [
    "import pandas as pd\n",
    "import numpy as np\n",
    "import seaborn as sns\n",
    "import matplotlib.pyplot as plt\n",
    "from scipy import stats\n",
    "\n",
    "def get_cor(d,y):\n",
    "    regs=[]\n",
    "    x=np.array(d)\n",
    "    for i in range(len(x[0])):\n",
    "        regs.append(stats.linregress(y,x[:,i]))\n",
    "    rna=pd.DataFrame(np.array(regs)[:,2:4],index=d.columns,columns=['cor','p']).sort_values('cor',ascending=False)\n",
    "    return rna\n",
    "\n",
    "data='../data/'"
   ]
  },
  {
   "cell_type": "code",
   "execution_count": 2,
   "id": "20d89e74-b20d-4450-909e-96b571feb886",
   "metadata": {},
   "outputs": [
    {
     "name": "stdout",
     "output_type": "stream",
     "text": [
      "CPU times: user 626 ms, sys: 24 ms, total: 650 ms\n",
      "Wall time: 650 ms\n"
     ]
    }
   ],
   "source": [
    "%%time\n",
    "clock_=data+'source/41467_2015_BFncomms9570_MOESM436_ESM.xlsx'\n",
    "clock=pd.read_excel(clock_,skiprows=2,nrows=1497)\n",
    "clock.index=clock['NEW-Gene-ID']\n",
    "clock=clock[['RANK','META:Direction']]\n",
    "clock=clock.rename(index={'GPR56':'ADGRG1'})\n",
    "down=clock[clock['META:Direction']=='-']\n",
    "up=clock[clock['META:Direction']=='+']"
   ]
  },
  {
   "cell_type": "code",
   "execution_count": 3,
   "id": "dc9f6d50-6f85-49cd-a72f-f809acd0be67",
   "metadata": {},
   "outputs": [
    {
     "data": {
      "text/plain": [
       "18937"
      ]
     },
     "execution_count": 3,
     "metadata": {},
     "output_type": "execute_result"
    }
   ],
   "source": [
    "gen=pd.read_csv(data+'clean/genes.csv',index_col=0)\n",
    "dic=gen.to_dict()['gen']\n",
    "len(dic)"
   ]
  },
  {
   "cell_type": "code",
   "execution_count": 37,
   "id": "db4c9b53-e8ef-421c-8e43-53aa06d625c4",
   "metadata": {},
   "outputs": [
    {
     "name": "stdout",
     "output_type": "stream",
     "text": [
      "CPU times: user 423 ms, sys: 336 ms, total: 760 ms\n",
      "Wall time: 759 ms\n"
     ]
    },
    {
     "data": {
      "text/plain": [
       "(3458, 18883)"
      ]
     },
     "execution_count": 37,
     "metadata": {},
     "output_type": "execute_result"
    }
   ],
   "source": [
    "%%time\n",
    "rna=pd.read_pickle(data+'results/rna.pkl').drop('sex',axis=1)\n",
    "cohorts=rna['cohort'].unique()\n",
    "rna.shape"
   ]
  },
  {
   "cell_type": "code",
   "execution_count": 47,
   "id": "22847d33-3f67-448d-bf05-7aec3486c11c",
   "metadata": {},
   "outputs": [],
   "source": [
    "genes=['ELOVL2','KLF14','FHL2','CD248','LRRN3','NELL2','SATB1']\n",
    "top=rna[['cohort','sid','age']+[gen[gen['gen']==c].index[0] for c in genes]]\n",
    "top.columns=['cohort','sid','age']+genes\n",
    "top.to_csv(data+'results/top_rna.csv') # for Fig 2"
   ]
  },
  {
   "cell_type": "code",
   "execution_count": 5,
   "id": "94747c92-46f7-406a-8120-0369481188b2",
   "metadata": {},
   "outputs": [
    {
     "name": "stdout",
     "output_type": "stream",
     "text": [
      "CPU times: user 19.2 s, sys: 1.91 s, total: 21.1 s\n",
      "Wall time: 21.1 s\n"
     ]
    }
   ],
   "source": [
    "%%time\n",
    "rna=rna.drop('sid',axis=1)\n",
    "rna_cors=[]\n",
    "for cohort in cohorts:\n",
    "    df=rna[rna['cohort']==cohort].drop('cohort',axis=1)\n",
    "    dfm=np.log2(df.drop('age',axis=1)+1)\n",
    "    dfm=(dfm.T-dfm.median(1)).T\n",
    "    rna_cor=get_cor(dfm,df['age'])\n",
    "    rna_cor['cohort']=cohort\n",
    "    rna_cors.append(rna_cor)"
   ]
  },
  {
   "cell_type": "code",
   "execution_count": 6,
   "id": "05c5342b-e466-4fc4-842a-b00711976449",
   "metadata": {},
   "outputs": [
    {
     "data": {
      "text/plain": [
       "(114, 4)"
      ]
     },
     "execution_count": 6,
     "metadata": {},
     "output_type": "execute_result"
    }
   ],
   "source": [
    "pl=pd.concat(rna_cors).join(gen)\n",
    "pl.loc[pl['gen'].isin(down.head(10).index),'top10']='down'\n",
    "pl.loc[pl['gen'].isin(up.head(10).index),'top10']='up'\n",
    "fig1b=pl[pl['top10'].isin(['up','down'])][['cor','cohort','top10','gen']]\n",
    "fig1b.shape"
   ]
  },
  {
   "cell_type": "code",
   "execution_count": 7,
   "id": "dd0ba788-087f-4510-af2f-0ba4a8e6150f",
   "metadata": {},
   "outputs": [],
   "source": [
    "fig1b.to_csv(data+'figs/1b.csv')"
   ]
  },
  {
   "cell_type": "code",
   "execution_count": 8,
   "id": "50ccff07-ef35-409a-97c4-9090e0b62313",
   "metadata": {},
   "outputs": [
    {
     "data": {
      "text/plain": [
       "(113280, 6)"
      ]
     },
     "execution_count": 8,
     "metadata": {},
     "output_type": "execute_result"
    }
   ],
   "source": [
    "pl.loc[pl['gen'].isin(up.index),'proposed']='up'\n",
    "pl.loc[pl['gen'].isin(down.index),'proposed']='down'\n",
    "pl.shape"
   ]
  },
  {
   "cell_type": "code",
   "execution_count": 9,
   "id": "4e86a56d-549e-4552-b5fe-faa33aeab6a4",
   "metadata": {},
   "outputs": [
    {
     "data": {
      "text/plain": [
       "(7962, 3)"
      ]
     },
     "execution_count": 9,
     "metadata": {},
     "output_type": "execute_result"
    }
   ],
   "source": [
    "fig1d=pl[['cohort','cor','proposed']].dropna()\n",
    "fig1d.shape"
   ]
  },
  {
   "cell_type": "code",
   "execution_count": 10,
   "id": "add17702-6bfb-45b2-a88e-a090bc964476",
   "metadata": {},
   "outputs": [],
   "source": [
    "fig1d.to_csv(data+'figs/1d.csv')"
   ]
  },
  {
   "cell_type": "code",
   "execution_count": 13,
   "id": "2c5faca9-f266-4e69-ac3d-20ef91711589",
   "metadata": {},
   "outputs": [],
   "source": [
    "pl.to_csv(data+'results/rna_cor.csv')"
   ]
  }
 ],
 "metadata": {
  "kernelspec": {
   "display_name": "integrative",
   "language": "python",
   "name": "integrative"
  },
  "language_info": {
   "codemirror_mode": {
    "name": "ipython",
    "version": 3
   },
   "file_extension": ".py",
   "mimetype": "text/x-python",
   "name": "python",
   "nbconvert_exporter": "python",
   "pygments_lexer": "ipython3",
   "version": "3.12.9"
  }
 },
 "nbformat": 4,
 "nbformat_minor": 5
}
