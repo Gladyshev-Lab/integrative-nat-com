{
 "cells": [
  {
   "cell_type": "code",
   "execution_count": 1,
   "id": "ad5ca618-2cce-411b-91b8-1ee75cdc4b94",
   "metadata": {},
   "outputs": [],
   "source": [
    "import pandas as pd\n",
    "import numpy as np\n",
    "import seaborn as sns\n",
    "from scipy import stats\n",
    "import matplotlib.pyplot as plt\n",
    "from scipy import stats\n",
    "\n",
    "\n",
    "def get_val(dnad,rna,n,updown,rnap=.05):\n",
    "    pl_all=[]\n",
    "    ## all genes\n",
    "    cor_sub=rna.copy()\n",
    "    cor_sub['q']='Among all transcripts'\n",
    "    if updown=='up':\n",
    "        cor_sub['pp']=(cor_sub['rna_cor']>0)&(cor_sub['rna_p']<rnap) #up\n",
    "    else:\n",
    "        cor_sub['pp']=(cor_sub['rna_cor']<0)&(cor_sub['rna_p']<rnap) #down            \n",
    "    pl_all.append(cor_sub[['cohort','pp','q','rna_cor']])\n",
    "\n",
    "    ## aging genes\n",
    "    if updown=='up':\n",
    "        cor_sub=rna[rna['proposed']=='up'].copy()\n",
    "        cor_sub['q']=\"Among Peters et al's\\n aging transcripts\"\n",
    "        cor_sub['pp']=(cor_sub['rna_cor']>0)&(cor_sub['rna_p']<rnap) #up\n",
    "    else:\n",
    "        cor_sub=rna[rna['proposed']=='down'].copy()\n",
    "        cor_sub['q']=\"Among Peters et al's\\n aging transcripts\"\n",
    "        cor_sub['pp']=(cor_sub['rna_cor']<0)&(cor_sub['rna_p']<rnap) #down\n",
    "    pl_all.append(cor_sub[['cohort','pp','q','rna_cor']])\n",
    "\n",
    "    ## .01\n",
    "    for i in [1,2]:\n",
    "        q=10**(-i)\n",
    "        dd=dnad.copy() ### 2000 fromTSS\n",
    "        if updown=='up':\n",
    "            dd['p']=(dd['p']<q)&(dd['cor']<0)              #DNAm loss\n",
    "        else:\n",
    "            dd['p']=(dd['p']<q)&(dd['cor']>0)              #DNAm gain\n",
    "        dd['p+']=dd['p'].shift(1); dd['cg+']=dd['cg'].shift(1)\n",
    "        dd['p-']=dd['p'].shift(-1); dd['cg-']=dd['cg'].shift(-1)\n",
    "        dd['p3']=dd['p']&dd['p+']&dd['p-']\n",
    "        ddp=dd[dd['p3']==True]\n",
    "        cor_sub=rna[rna.index.isin(ddp['gene'])].copy()\n",
    "        cor_sub['q']='Among aging trans. &\\n aging CpGs (p='+str(q)+')'\n",
    "        if updown=='up':\n",
    "            cor_sub=cor_sub[cor_sub['proposed']=='up']              #up\n",
    "            cor_sub['pp']=(cor_sub['rna_cor']>0)&(cor_sub['rna_p']<rnap)  #up\n",
    "        else:\n",
    "            cor_sub=cor_sub[cor_sub['proposed']=='down']           #down\n",
    "            cor_sub['pp']=(cor_sub['rna_cor']<0)&(cor_sub['rna_p']<rnap) #down\n",
    "        pl_all.append(cor_sub[['cohort','pp','q','rna_cor']])   \n",
    "    pl_all=pd.concat(pl_all) \n",
    "    return pl_all,ddp\n",
    "\n",
    "def plot_val(pl_all,order):\n",
    "    ax=sns.barplot(data=pl_all,x='cohort',y='pp',hue='q',order=order)\n",
    "    ax.set(ylim=[0,1],xlabel='',ylabel='')\n",
    "    ax.set_yticks(ax.get_yticks());ax.set_xticks(ax.get_xticks());\n",
    "    ax.set_yticklabels([])\n",
    "    legend = ax.legend()\n",
    "    if updown=='up':\n",
    "        plt.title('Up-regulated',size=14);    \n",
    "    else:\n",
    "        plt.title('Down-regulated',size=14);   \n",
    "    return ax\n",
    "\n",
    "dis_n=2000 \n",
    "data='../data/'"
   ]
  },
  {
   "cell_type": "code",
   "execution_count": 2,
   "id": "32971ac2-04da-4bcf-b67d-308587213b70",
   "metadata": {},
   "outputs": [
    {
     "data": {
      "text/plain": [
       "(825095, 8)"
      ]
     },
     "execution_count": 2,
     "metadata": {},
     "output_type": "execute_result"
    }
   ],
   "source": [
    "man=pd.read_csv(data+'clean/man_e2.csv',index_col=0,usecols=['Name','ch','pos','dis','gene','tss'])\n",
    "man=man.drop_duplicates()\n",
    "dna=pd.read_csv(data+'results/dna_corr/mgb.csv',index_col=0)\n",
    "dna=man.join(dna,how='inner')\n",
    "dna=dna.sort_values(['ch','pos'])\n",
    "dnad=dna[dna['dis'].abs()<=dis_n].copy() ### 2000 fromTSS\n",
    "dnad['cg']=dnad.index\n",
    "dna.shape"
   ]
  },
  {
   "cell_type": "code",
   "execution_count": 6,
   "id": "d43c5a12-9961-4904-8c30-0d32206ea018",
   "metadata": {},
   "outputs": [
    {
     "data": {
      "text/html": [
       "<div>\n",
       "<style scoped>\n",
       "    .dataframe tbody tr th:only-of-type {\n",
       "        vertical-align: middle;\n",
       "    }\n",
       "\n",
       "    .dataframe tbody tr th {\n",
       "        vertical-align: top;\n",
       "    }\n",
       "\n",
       "    .dataframe thead th {\n",
       "        text-align: right;\n",
       "    }\n",
       "</style>\n",
       "<table border=\"1\" class=\"dataframe\">\n",
       "  <thead>\n",
       "    <tr style=\"text-align: right;\">\n",
       "      <th></th>\n",
       "      <th>ch</th>\n",
       "      <th>pos</th>\n",
       "      <th>dis</th>\n",
       "      <th>gene</th>\n",
       "      <th>tss</th>\n",
       "      <th>cor</th>\n",
       "      <th>p</th>\n",
       "      <th>cohort</th>\n",
       "    </tr>\n",
       "  </thead>\n",
       "  <tbody>\n",
       "    <tr>\n",
       "      <th>cg14597388</th>\n",
       "      <td>5</td>\n",
       "      <td>55023545</td>\n",
       "      <td>-711</td>\n",
       "      <td>GZMK</td>\n",
       "      <td>5055024256</td>\n",
       "      <td>-0.178342</td>\n",
       "      <td>0.000118</td>\n",
       "      <td>mgb</td>\n",
       "    </tr>\n",
       "  </tbody>\n",
       "</table>\n",
       "</div>"
      ],
      "text/plain": [
       "            ch       pos  dis  gene         tss       cor         p cohort\n",
       "cg14597388   5  55023545 -711  GZMK  5055024256 -0.178342  0.000118    mgb"
      ]
     },
     "execution_count": 6,
     "metadata": {},
     "output_type": "execute_result"
    }
   ],
   "source": [
    "dna[dna['gene']=='GZMK'].head(1)"
   ]
  },
  {
   "cell_type": "code",
   "execution_count": 3,
   "id": "37446270-3e19-4af9-802b-fb3e1277c2ae",
   "metadata": {},
   "outputs": [
    {
     "data": {
      "text/plain": [
       "(113280, 6)"
      ]
     },
     "execution_count": 3,
     "metadata": {},
     "output_type": "execute_result"
    }
   ],
   "source": [
    "rna_all=pd.read_csv(data+'results/rna_cor.csv',index_col=0).rename(columns={'cor':'rna_cor','p':'rna_p'})\n",
    "rna_all.index=rna_all['gen']\n",
    "rna_all.shape"
   ]
  },
  {
   "cell_type": "code",
   "execution_count": 4,
   "id": "92a9a5ba-0c9e-405a-9e16-723b2f461e45",
   "metadata": {},
   "outputs": [],
   "source": [
    "# Down Regulated and Gain of DNAm ---> significant\n",
    "updown='down'\n",
    "pl_all_out=[]\n",
    "cohorts=rna_all['cohort'].unique()\n",
    "for coh in cohorts:\n",
    "    rna=rna_all[rna_all['cohort']==coh]\n",
    "    val,ddp=get_val(dnad,rna,dis_n,updown)\n",
    "    pl_all_out.append(val)\n",
    "pl_all=pd.concat(pl_all_out).dropna()\n",
    "g=pl_all[(pl_all['q']=='Among aging trans. &\\n aging CpGs (p=0.01)')&(pl_all['cohort']=='MESA1')]"
   ]
  },
  {
   "cell_type": "code",
   "execution_count": 6,
   "id": "613f9d58-b2e0-4469-90f9-ed726db3a11d",
   "metadata": {},
   "outputs": [
    {
     "data": {
      "text/plain": [
       "(106, 4)"
      ]
     },
     "execution_count": 6,
     "metadata": {},
     "output_type": "execute_result"
    }
   ],
   "source": [
    "g[[]].to_csv(data+'results/aging_genes.csv')\n",
    "g.shape"
   ]
  },
  {
   "cell_type": "code",
   "execution_count": 7,
   "id": "6f3ed595-f96a-4325-9bfe-fed18cfd0dee",
   "metadata": {},
   "outputs": [
    {
     "data": {
      "text/plain": [
       "(111167, 4)"
      ]
     },
     "execution_count": 7,
     "metadata": {},
     "output_type": "execute_result"
    }
   ],
   "source": [
    "pl_all[['cohort','q','pp']].to_csv(data+'figs/3g.csv')\n",
    "pl_all.shape"
   ]
  },
  {
   "cell_type": "code",
   "execution_count": 8,
   "id": "dfeb01cc-834d-4291-bb0c-b7a436699b57",
   "metadata": {},
   "outputs": [
    {
     "data": {
      "text/plain": [
       "106"
      ]
     },
     "execution_count": 8,
     "metadata": {},
     "output_type": "execute_result"
    }
   ],
   "source": [
    "pl_all['gene']=pl_all.index\n",
    "mult_down=pl_all[(pl_all['q']=='Among aging trans. &\\n aging CpGs (p=0.01)')&(pl_all['pp'])]\n",
    "mult_down.to_csv(data+'results/validated_genes.csv')\n",
    "topcg=ddp[ddp['gene'].isin(mult_down.index)&(ddp['p3'])]\n",
    "len(topcg['gene'].unique())"
   ]
  },
  {
   "cell_type": "code",
   "execution_count": 9,
   "id": "66c52fe9-5a13-4f23-9f90-b1e9ccdb8825",
   "metadata": {},
   "outputs": [
    {
     "data": {
      "text/plain": [
       "(721, 8)"
      ]
     },
     "execution_count": 9,
     "metadata": {},
     "output_type": "execute_result"
    }
   ],
   "source": [
    "topcg.to_csv(data+'results/panel_cpgs.csv')\n",
    "cgs=dna[(dna['gene'].isin(topcg['gene']))&(dna['cor']>0)&(dna['p']<.01)&(dna['dis'].abs()<=2000)].sort_values(['ch','pos'])\n",
    "cgs.to_csv(data+'results/aging_cgs.csv')\n",
    "cgs.shape"
   ]
  },
  {
   "cell_type": "code",
   "execution_count": 19,
   "id": "0d404551-6191-4dd7-a6ed-8e8982100e1c",
   "metadata": {},
   "outputs": [
    {
     "data": {
      "image/png": "[encoded data removed]",
      "text/plain": [
       "<Figure size 500x200 with 1 Axes>"
      ]
     },
     "metadata": {},
     "output_type": "display_data"
    }
   ],
   "source": [
    "# Up Regulated and Loss of DNAm ---> NOT significant\n",
    "updown='up'\n",
    "pl_all_out=[]\n",
    "cohorts=rna_all['cohort'].unique()\n",
    "for coh in cohorts:\n",
    "    rna=rna_all[rna_all['cohort']==coh]\n",
    "    val,ddp=get_val(dnad,rna,dis_n,updown)\n",
    "    pl_all_out.append(val)\n",
    "pl_all=pd.concat(pl_all_out).dropna()\n",
    "sns.set(rc={'figure.figsize':(5,2)})    \n",
    "ax=plot_val(pl_all.reset_index(),order=['MESA1','MESA2','PPMI','JenAge','GC6','Dutch'])\n",
    "ax.set_xticklabels(ax.get_xticklabels(), size = 9);\n",
    "ax.set(ylim=[0,1],xlabel='cohort',ylabel='% aging trranscripts',\n",
    "       title='Aging transcripts validated in each cohort\\n(DNAm from MGB)');\n",
    "ax.set_yticklabels(['0','20','40','60','80','100'])\n",
    "plt.legend(bbox_to_anchor=(1, 1.04),fontsize=9);"
   ]
  },
  {
   "cell_type": "code",
   "execution_count": 21,
   "id": "c62a69e5-f830-4498-a31e-173a8af330f2",
   "metadata": {},
   "outputs": [
    {
     "name": "stdout",
     "output_type": "stream",
     "text": [
      "CPU times: user 555 ms, sys: 6.97 ms, total: 562 ms\n",
      "Wall time: 617 ms\n"
     ]
    },
    {
     "data": {
      "text/plain": [
       "(111321, 4)"
      ]
     },
     "execution_count": 21,
     "metadata": {},
     "output_type": "execute_result"
    }
   ],
   "source": [
    "%%time\n",
    "fig3g=pl_all\n",
    "fig3g.to_csv(data+'figs/3g.csv')\n",
    "fig3g.shape"
   ]
  },
  {
   "cell_type": "code",
   "execution_count": null,
   "id": "6e500b02-8edd-4b21-b4ac-04d06476822d",
   "metadata": {},
   "outputs": [],
   "source": [
    "# up-regulated NOT significant\n",
    "# down-regulated significant\n",
    "m=100; n=2000\n",
    "for rna_dir in ['up-regulated','down-regulated']:\n",
    "    pls=[]\n",
    "    for cohort in ['MESA1','MESA2','PPMI']:\n",
    "        rna=rna_all[rna_all['cohort']==cohort]\n",
    "        mul=dna.drop(['cohort'],axis=1).merge(rna[['rna_cor','rna_p','cohort']],left_on=['gene'],right_index=True,how='inner')\n",
    "        muld=mul[mul['dis'].abs()<n]    \n",
    "        muld=muld.sort_values('rna_cor').copy()\n",
    "        muld['rna_c']='all transcripts'\n",
    "        if rna_dir=='down-regulated':\n",
    "            muld.loc[muld.index[:m],'rna_c']=rna_dir\n",
    "        else:\n",
    "            muld.loc[muld.index[-m:],'rna_c']=rna_dir\n",
    "        pl=muld[['rna_c','cor','cohort']]\n",
    "        pls.append(pl)\n",
    "    pls=pd.concat(pls)\n",
    "    pls.loc[pls['rna_c']==rna_dir,'dot_plot']=pls.loc[pls['rna_c']==rna_dir,'cor']"
   ]
  },
  {
   "cell_type": "code",
   "execution_count": 22,
   "id": "dcd27d20-76a9-4c14-8341-8c9d83b58041",
   "metadata": {},
   "outputs": [
    {
     "name": "stdout",
     "output_type": "stream",
     "text": [
      "CPU times: user 4.45 s, sys: 74.2 ms, total: 4.52 s\n",
      "Wall time: 4.63 s\n"
     ]
    },
    {
     "data": {
      "text/plain": [
       "(870336, 4)"
      ]
     },
     "execution_count": 22,
     "metadata": {},
     "output_type": "execute_result"
    }
   ],
   "source": [
    "%%time\n",
    "fig3f=pls[['rna_c','cor','cohort','dot_plot']]\n",
    "fig3f.to_csv(data+'figs/3f.csv')\n",
    "fig3f.shape"
   ]
  }
 ],
 "metadata": {
  "kernelspec": {
   "display_name": "integrative",
   "language": "python",
   "name": "integrative"
  },
  "language_info": {
   "codemirror_mode": {
    "name": "ipython",
    "version": 3
   },
   "file_extension": ".py",
   "mimetype": "text/x-python",
   "name": "python",
   "nbconvert_exporter": "python",
   "pygments_lexer": "ipython3",
   "version": "3.12.9"
  }
 },
 "nbformat": 4,
 "nbformat_minor": 5
}
