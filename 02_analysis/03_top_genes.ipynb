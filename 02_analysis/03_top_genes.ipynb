{
 "cells": [
  {
   "cell_type": "code",
   "execution_count": 1,
   "id": "48e68017-4b91-4d5d-98f4-39bf630f519f",
   "metadata": {},
   "outputs": [],
   "source": [
    "import pandas as pd\n",
    "import seaborn as sns\n",
    "import numpy as np\n",
    "import scipy as sp\n",
    "import matplotlib.pyplot as plt\n",
    "from scipy import stats\n",
    "import pingouin as pg\n",
    "import glob, os\n",
    "from statsmodels.sandbox.stats.multicomp import multipletests\n",
    "import statsmodels.formula.api as sm\n",
    "data='../data/'"
   ]
  },
  {
   "cell_type": "code",
   "execution_count": 120,
   "id": "6cf41c80-a0b5-4444-8a37-b8b44a7a70be",
   "metadata": {},
   "outputs": [
    {
     "name": "stdout",
     "output_type": "stream",
     "text": [
      "CPU times: user 95.3 ms, sys: 5.18 ms, total: 101 ms\n",
      "Wall time: 207 ms\n"
     ]
    }
   ],
   "source": [
    "%%time\n",
    "dt=pd.read_csv(data+'results/top_cgs_mesa.csv',index_col=0)\n",
    "dt=dt.rename(columns={'visit':'cohort'})\n",
    "d1=dt[dt['cohort']==1].copy()\n",
    "d2=dt[dt['cohort']==2].copy()\n",
    "d1['age_c']=pd.qcut(d1['age'],3,labels=['young','','old']).astype(str)\n",
    "d2['age_c']=pd.qcut(d2['age'],3,labels=['young','','old']).astype(str)\n",
    "d1['cohort']='mesa1'\n",
    "d2['cohort']='mesa2'\n",
    "d3=pd.read_csv(data+'results/top_cgs_ppmi.csv',index_col=0)\n",
    "d3['cohort']='ppmi'\n",
    "d3['age_c']=pd.qcut(d3['age'],3,labels=['young','','old']).astype(str)\n",
    "dd=pd.concat([d1,d2,d3])\n",
    "dd=dd[dd['age_c']!=''].copy()\n",
    "dd.to_csv(data+'results/top_cgs_mesa+ppmi.csv')\n",
    "fig2c_top=dd.drop(['age','sid'],axis=1).reset_index(drop=True)\n",
    "fig2c_top.to_csv(data+'figs/2c_top_part.csv')"
   ]
  },
  {
   "cell_type": "code",
   "execution_count": 122,
   "id": "ba0daecb-193f-4073-b6f1-566c43dd14e8",
   "metadata": {},
   "outputs": [
    {
     "name": "stdout",
     "output_type": "stream",
     "text": [
      "744 853\n"
     ]
    }
   ],
   "source": [
    "v1=dt[dt['cohort']==1].copy()\n",
    "print(len(v1),len(v2))\n",
    "slope, intercept, r_value, p_value, std_err = stats.linregress(v1['age'],v1['cg22213242'])\n",
    "v1['d']=v1['cg22213242']-slope*v1['age']-intercept\n",
    "v1['dc']=pd.qcut(v1['d'],10,labels=range(10))\n",
    "v1['AA']=v1['dc']==9\n",
    "v2=dt[dt['cohort']==2].copy()\n",
    "v2['AA']=False\n",
    "v2.loc[v2['sid'].isin(v1[v1['AA']].sid),'AA']=True\n",
    "v2['AA']=v2['AA'].replace({True:'Highest CD248\\n DNAm in 2000',False: 'Others'})\n",
    "fig2d1=v1[['age','cg22213242','AA']].reset_index(drop=True)\n",
    "fig2d2=v2[['age','cg22213242','AA']].reset_index(drop=True)\n",
    "fig2d1.to_csv(data+'figs/2d1.csv')\n",
    "fig2d2.to_csv(data+'figs/2d2.csv')"
   ]
  },
  {
   "cell_type": "code",
   "execution_count": 119,
   "id": "f6555862-de18-4cc5-9e4a-669a3f485f6a",
   "metadata": {},
   "outputs": [],
   "source": [
    "dt=pd.read_csv(data+'results/top_rna.csv',index_col=0)\n",
    "d1=dt[dt['cohort']=='MESA1'].copy()\n",
    "d2=dt[dt['cohort']=='MESA2'].copy()\n",
    "d1['age_c']=pd.qcut(d1['age'],3,labels=['young','','old']).astype(str)\n",
    "d2['age_c']=pd.qcut(d2['age'],3,labels=['young','','old']).astype(str)\n",
    "d1['cohort']='mesa1'\n",
    "d2['cohort']='mesa2'\n",
    "d3=dt[dt['cohort']=='PPMI'].copy()\n",
    "d3['age_c']=pd.qcut(d3['age'],3,labels=['young','','old']).astype(str)\n",
    "dd=pd.concat([d1,d2,d3])\n",
    "dd=dd[dd['age_c']!=''].copy()\n",
    "for gen in ['ELOVL2','KLF14','FHL2','CD248','LRRN3','NELL2','SATB1']:\n",
    "    dd[gen]=np.log10(dd[gen]+1)\n",
    "fig2c_bottom=dd.drop(['sid','age'],axis=1).reset_index(drop=True)\n",
    "fig2c_bottom.to_csv(data+'figs/2c_bottom.csv')"
   ]
  },
  {
   "cell_type": "code",
   "execution_count": null,
   "id": "83d303bc-d75e-4bb7-84f9-76b60212c373",
   "metadata": {},
   "outputs": [],
   "source": []
  }
 ],
 "metadata": {
  "kernelspec": {
   "display_name": "integrative",
   "language": "python",
   "name": "integrative"
  },
  "language_info": {
   "codemirror_mode": {
    "name": "ipython",
    "version": 3
   },
   "file_extension": ".py",
   "mimetype": "text/x-python",
   "name": "python",
   "nbconvert_exporter": "python",
   "pygments_lexer": "ipython3",
   "version": "3.12.9"
  }
 },
 "nbformat": 4,
 "nbformat_minor": 5
}
